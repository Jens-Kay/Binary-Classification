{
 "cells": [
  {
   "cell_type": "markdown",
   "metadata": {
    "id": "dwHiTSngfHQ-"
   },
   "source": [
    "# Téléchargement de la base de données"
   ]
  },
  {
   "cell_type": "code",
   "execution_count": 1,
   "metadata": {
    "colab": {
     "base_uri": "https://localhost:8080/"
    },
    "id": "-oyIllXtXl3u",
    "outputId": "de7a9069-bd73-44c4-fad4-36910cd5f4fc"
   },
   "outputs": [
    {
     "name": "stdout",
     "output_type": "stream",
     "text": [
      "--2023-10-09 11:49:00--  http://s3.amazonaws.com/content.udacity-data.com/nd089/Cat_Dog_data.zip\n",
      "Resolving s3.amazonaws.com (s3.amazonaws.com)... 52.216.165.13, 52.216.165.61, 54.231.193.8, ...\n",
      "Connecting to s3.amazonaws.com (s3.amazonaws.com)|52.216.165.13|:80... connected.\n",
      "HTTP request sent, awaiting response... 200 OK\n",
      "Length: 580495262 (554M) [application/zip]\n",
      "Saving to: ‘Cat_Dog_data.zip’\n",
      "\n",
      "Cat_Dog_data.zip    100%[===================>] 553.60M  20.2MB/s    in 31s     \n",
      "\n",
      "2023-10-09 11:49:31 (18.0 MB/s) - ‘Cat_Dog_data.zip’ saved [580495262/580495262]\n",
      "\n"
     ]
    }
   ],
   "source": [
    "!wget -c http://s3.amazonaws.com/content.udacity-data.com/nd089/Cat_Dog_data.zip"
   ]
  },
  {
   "cell_type": "markdown",
   "metadata": {
    "id": "-41W14mzfBH8"
   },
   "source": [
    "# Importation des différents Packages"
   ]
  },
  {
   "cell_type": "code",
   "execution_count": 2,
   "metadata": {
    "id": "c72ChVBjbVUW"
   },
   "outputs": [],
   "source": [
    "import numpy as np\n",
    "import random\n",
    "import os\n",
    "import matplotlib\n",
    "\n",
    "\n",
    "\n",
    "\n"
   ]
  },
  {
   "cell_type": "markdown",
   "metadata": {
    "id": "RoGFRfRPfUkd"
   },
   "source": [
    "# Spécification de la forme des données que nous allons utiliser"
   ]
  },
  {
   "cell_type": "code",
   "execution_count": 3,
   "metadata": {
    "id": "AadlsfmjcPyI"
   },
   "outputs": [],
   "source": [
    "from tensorflow.keras import layers\n",
    "image_in = layers.Input(shape=(150,150,3))"
   ]
  },
  {
   "cell_type": "markdown",
   "metadata": {
    "id": "nwApUZElx5DB"
   },
   "source": [
    "Cette ligne crée un objet Input qui représente la couche d'entrée de votre modèle. shape=(150,150,3) spécifie la forme (shape) des données d'entrée. Dans ce cas, il indique que chaque exemple d'entraînement est une image de 150 pixels de largeur, 150 pixels de hauteur et 3 canaux de couleur (pour les images RGB). Le premier nombre dans le shape indique la largeur de l'image, le deuxième nombre indique la hauteur, et le troisième nombre indique le nombre de canaux de couleur (par exemple, 3 pour les images RGB, 1 pour les images en niveaux de gris)."
   ]
  },
  {
   "cell_type": "markdown",
   "metadata": {
    "id": "dRhg1Of8yWaf"
   },
   "source": [
    "# mise en place des filtres de convolution"
   ]
  },
  {
   "cell_type": "markdown",
   "metadata": {
    "id": "6q-mZ03z0EZs"
   },
   "source": [
    "## modèle de réseau de neurones convolutif (CNN)"
   ]
  },
  {
   "cell_type": "markdown",
   "metadata": {
    "id": "4QgI0pYYfZEE"
   },
   "source": [
    "add a first convolution"
   ]
  },
  {
   "cell_type": "code",
   "execution_count": 4,
   "metadata": {
    "id": "skp9G9iOeqmE"
   },
   "outputs": [],
   "source": [
    "x = layers.Conv2D(16, 3, activation='relu')(image_in)\n",
    "x = layers.MaxPooling2D(2)(x)"
   ]
  },
  {
   "cell_type": "markdown",
   "metadata": {
    "id": "NP-PahEAfgHC"
   },
   "source": [
    "second convolution 32"
   ]
  },
  {
   "cell_type": "code",
   "execution_count": 5,
   "metadata": {
    "id": "iSwHDFqzekmJ"
   },
   "outputs": [],
   "source": [
    "x = layers.Conv2D(32, 3, activation='relu')(x)\n",
    "x = layers.MaxPooling2D(2)(x)"
   ]
  },
  {
   "cell_type": "markdown",
   "metadata": {
    "id": "mMVq3ZO_fiXw"
   },
   "source": [
    "third convolution 64"
   ]
  },
  {
   "cell_type": "code",
   "execution_count": 6,
   "metadata": {
    "id": "Fq6T86Ace6Lx"
   },
   "outputs": [],
   "source": [
    "x = layers.Conv2D(64, 3, activation='relu')(x)\n",
    "x = layers.MaxPooling2D(2)(x)"
   ]
  },
  {
   "cell_type": "markdown",
   "metadata": {
    "id": "NLhWoL6z1Itu"
   },
   "source": [
    "Les filtres permettent au réseau d'apprendre des motifs spécifiques dans l'image."
   ]
  },
  {
   "cell_type": "markdown",
   "metadata": {
    "id": "_gJcDnaVfoeO"
   },
   "source": [
    "# Convertion des données"
   ]
  },
  {
   "cell_type": "code",
   "execution_count": 7,
   "metadata": {
    "id": "7udAyTNefnVf"
   },
   "outputs": [],
   "source": [
    "x = layers.Flatten()(x)\n",
    "x = layers.Dense(512,activation='relu')(x)"
   ]
  },
  {
   "cell_type": "markdown",
   "metadata": {
    "id": "nM7jFOMrzFzQ"
   },
   "source": [
    "Les couches entièrement connectées sont utilisées pour combiner les caractéristiques apprises précédemment et effectuer des prédictions. Chaque neurone dans cette couche est connecté à tous les neurones de la couche précédente"
   ]
  },
  {
   "cell_type": "markdown",
   "metadata": {
    "id": "CkXxZIjSiWmQ"
   },
   "source": [
    "# création d'un résultat binaire\n"
   ]
  },
  {
   "cell_type": "code",
   "execution_count": 8,
   "metadata": {
    "id": "b1AHx-jigfsF"
   },
   "outputs": [],
   "source": [
    "output = layers.Dense(1,activation='sigmoid')(x)"
   ]
  },
  {
   "cell_type": "markdown",
   "metadata": {
    "id": "9TeezZ8H52Im"
   },
   "source": []
  },
  {
   "cell_type": "markdown",
   "metadata": {
    "id": "oFRunns3i0aF"
   },
   "source": [
    "# Création du model"
   ]
  },
  {
   "cell_type": "code",
   "execution_count": 9,
   "metadata": {
    "id": "jy4maD79izNF"
   },
   "outputs": [],
   "source": [
    "from tensorflow.keras.models import Model\n",
    "my_model= Model(image_in,output)"
   ]
  },
  {
   "cell_type": "markdown",
   "metadata": {
    "id": "fGH5qeb1jQjB"
   },
   "source": [
    "# Configure le model avec une loss fonction, le nom de l'algorithme utilisé et taille des pas et indique qu'on veut accuracy\n"
   ]
  },
  {
   "cell_type": "code",
   "execution_count": 10,
   "metadata": {
    "id": "GlnePLBbjPiL"
   },
   "outputs": [],
   "source": [
    "from tensorflow.keras.optimizers import RMSprop\n",
    "my_model.compile(loss='binary_crossentropy',optimizer=RMSprop(0.001),metrics=['acc'])"
   ]
  },
  {
   "cell_type": "code",
   "execution_count": 11,
   "metadata": {
    "id": "tjKKdbyTkpml"
   },
   "outputs": [],
   "source": [
    "from tensorflow.keras.preprocessing.image import ImageDataGenerator\n",
    "training_data = ImageDataGenerator(rescale=1./255)"
   ]
  },
  {
   "cell_type": "markdown",
   "metadata": {
    "id": "ZTkfrDP_2slg"
   },
   "source": [
    "Normamlise la l'entré des données\n"
   ]
  },
  {
   "cell_type": "markdown",
   "metadata": {
    "id": "sngIKT6-lNmS"
   },
   "source": [
    "# Préparartion des données"
   ]
  },
  {
   "cell_type": "code",
   "execution_count": 12,
   "metadata": {
    "colab": {
     "base_uri": "https://localhost:8080/"
    },
    "id": "k5oDq9EZlZes",
    "outputId": "7bbec154-5e61-441b-d9b7-39a69253d262"
   },
   "outputs": [
    {
     "name": "stdout",
     "output_type": "stream",
     "text": [
      "Found 22500 images belonging to 2 classes.\n"
     ]
    }
   ],
   "source": [
    "import os\n",
    "import zipfile\n",
    "import requests\n",
    "from tensorflow.keras.preprocessing.image import ImageDataGenerator\n",
    "\n",
    "url = \"http://s3.amazonaws.com/content.udacity-data.com/nd089/Cat_Dog_data.zip\"\n",
    "\n",
    "\n",
    "response = requests.get(url)\n",
    "\n",
    "\n",
    "with open('Cat_Dog_data.zip', 'wb') as file:\n",
    "    file.write(response.content)\n",
    "\n",
    "with zipfile.ZipFile('Cat_Dog_data.zip', 'r') as zip_ref:\n",
    "    zip_ref.extractall('data')\n",
    "\n",
    "train_dir = 'data/Cat_Dog_data/train'\n",
    "\n",
    "training_dataset = training_data.flow_from_directory(train_dir,target_size=(150,150),batch_size=20,class_mode='binary')\n"
   ]
  },
  {
   "cell_type": "markdown",
   "metadata": {
    "id": "FoMeBqY224Tv"
   },
   "source": [
    "données de test"
   ]
  },
  {
   "cell_type": "code",
   "execution_count": 13,
   "metadata": {
    "colab": {
     "base_uri": "https://localhost:8080/"
    },
    "id": "gUMfjqHcDpVe",
    "outputId": "ccfc1926-29b4-42e3-fdd7-6ba8c8d94207"
   },
   "outputs": [
    {
     "name": "stdout",
     "output_type": "stream",
     "text": [
      "Found 2500 images belonging to 2 classes.\n"
     ]
    }
   ],
   "source": [
    "\n",
    "testing_dir = 'data/Cat_Dog_data/test'\n",
    "\n",
    "validation_dataset = training_data.flow_from_directory(testing_dir,target_size=(150,150),batch_size=20,class_mode='binary')\n"
   ]
  },
  {
   "cell_type": "markdown",
   "metadata": {
    "id": "13ZXURrxyfd8"
   },
   "source": [
    " # Exécution du model"
   ]
  },
  {
   "cell_type": "code",
   "execution_count": 14,
   "metadata": {
    "colab": {
     "base_uri": "https://localhost:8080/"
    },
    "id": "G2rpVYPxyoBW",
    "outputId": "8f63f678-5033-4dca-8723-fc454483448e"
   },
   "outputs": [
    {
     "name": "stdout",
     "output_type": "stream",
     "text": [
      "Epoch 1/15\n"
     ]
    },
    {
     "name": "stderr",
     "output_type": "stream",
     "text": [
      "<ipython-input-14-35bec48d4590>:1: UserWarning: `Model.fit_generator` is deprecated and will be removed in a future version. Please use `Model.fit`, which supports generators.\n",
      "  H = my_model.fit_generator(training_dataset, steps_per_epoch=100, epochs=15,validation_data=validation_dataset, validation_steps=50, verbose=2)\n"
     ]
    },
    {
     "name": "stdout",
     "output_type": "stream",
     "text": [
      "100/100 - 66s - loss: 0.8272 - acc: 0.5215 - val_loss: 0.6875 - val_acc: 0.5130 - 66s/epoch - 663ms/step\n",
      "Epoch 2/15\n",
      "100/100 - 58s - loss: 0.6865 - acc: 0.5785 - val_loss: 0.6495 - val_acc: 0.6560 - 58s/epoch - 583ms/step\n",
      "Epoch 3/15\n",
      "100/100 - 60s - loss: 0.6453 - acc: 0.6330 - val_loss: 0.6715 - val_acc: 0.6270 - 60s/epoch - 598ms/step\n",
      "Epoch 4/15\n",
      "100/100 - 61s - loss: 0.6137 - acc: 0.6595 - val_loss: 0.5739 - val_acc: 0.7000 - 61s/epoch - 611ms/step\n",
      "Epoch 5/15\n",
      "100/100 - 61s - loss: 0.5888 - acc: 0.6960 - val_loss: 0.5535 - val_acc: 0.7020 - 61s/epoch - 609ms/step\n",
      "Epoch 6/15\n",
      "100/100 - 68s - loss: 0.5569 - acc: 0.7205 - val_loss: 0.5696 - val_acc: 0.6890 - 68s/epoch - 676ms/step\n",
      "Epoch 7/15\n",
      "100/100 - 62s - loss: 0.5340 - acc: 0.7315 - val_loss: 0.5999 - val_acc: 0.6960 - 62s/epoch - 618ms/step\n",
      "Epoch 8/15\n",
      "100/100 - 59s - loss: 0.5334 - acc: 0.7340 - val_loss: 0.5411 - val_acc: 0.7330 - 59s/epoch - 594ms/step\n",
      "Epoch 9/15\n",
      "100/100 - 61s - loss: 0.5259 - acc: 0.7355 - val_loss: 0.5060 - val_acc: 0.7580 - 61s/epoch - 610ms/step\n",
      "Epoch 10/15\n",
      "100/100 - 60s - loss: 0.5015 - acc: 0.7570 - val_loss: 0.5514 - val_acc: 0.7230 - 60s/epoch - 601ms/step\n",
      "Epoch 11/15\n",
      "100/100 - 62s - loss: 0.4774 - acc: 0.7755 - val_loss: 0.5226 - val_acc: 0.7450 - 62s/epoch - 616ms/step\n",
      "Epoch 12/15\n",
      "100/100 - 60s - loss: 0.4514 - acc: 0.7850 - val_loss: 0.5020 - val_acc: 0.7680 - 60s/epoch - 604ms/step\n",
      "Epoch 13/15\n",
      "100/100 - 61s - loss: 0.4675 - acc: 0.7740 - val_loss: 0.5079 - val_acc: 0.7660 - 61s/epoch - 610ms/step\n",
      "Epoch 14/15\n",
      "100/100 - 60s - loss: 0.4700 - acc: 0.7800 - val_loss: 0.5487 - val_acc: 0.7240 - 60s/epoch - 597ms/step\n",
      "Epoch 15/15\n",
      "100/100 - 65s - loss: 0.4474 - acc: 0.7810 - val_loss: 0.4985 - val_acc: 0.7600 - 65s/epoch - 653ms/step\n"
     ]
    }
   ],
   "source": [
    "H = my_model.fit_generator(training_dataset, steps_per_epoch=100, epochs=15,validation_data=validation_dataset, validation_steps=50, verbose=2)"
   ]
  },
  {
   "cell_type": "code",
   "execution_count": 15,
   "metadata": {
    "colab": {
     "base_uri": "https://localhost:8080/"
    },
    "id": "WbGMxNcsPcAD",
    "outputId": "9510f4ae-9cfd-4d5c-ca85-c593d952e81c"
   },
   "outputs": [
    {
     "name": "stdout",
     "output_type": "stream",
     "text": [
      "dict_keys(['loss', 'acc', 'val_loss', 'val_acc'])\n"
     ]
    }
   ],
   "source": [
    "print(H.history.keys())\n"
   ]
  },
  {
   "cell_type": "markdown",
   "metadata": {
    "id": "wNAUBHtz3ENO"
   },
   "source": [
    "# Graphique"
   ]
  },
  {
   "cell_type": "code",
   "execution_count": 16,
   "metadata": {
    "colab": {
     "base_uri": "https://localhost:8080/",
     "height": 472
    },
    "id": "uAzgc2j0Fdwb",
    "outputId": "912bf27f-7172-4d2f-8801-fd27512b2e59"
   },
   "outputs": [
    {
     "data": {
      "image/png": "[encoded data removed]",
      "text/plain": [
       "<Figure size 640x480 with 1 Axes>"
      ]
     },
     "metadata": {},
     "output_type": "display_data"
    }
   ],
   "source": [
    "import matplotlib.pyplot as plt\n",
    "\n",
    "\n",
    "plt.plot(H.history['acc'], label='training accuracy', marker='o')\n",
    "plt.plot(H.history['val_acc'], label='validation accuracy', marker='o')\n",
    "\n",
    "plt.xlabel('epoch')\n",
    "plt.ylabel('accuracy')\n",
    "plt.title('accuracy par epoch')\n",
    "plt.legend()\n",
    "\n",
    "plt.show()\n"
   ]
  },
  {
   "cell_type": "markdown",
   "metadata": {
    "id": "RMtURaNm77nS"
   },
   "source": [
    "*Overfitting* : Sur les courbes d'apprentissage, l'erreur d'entraînement diminue continuellement, mais l'erreur de validation commence à augmenter après un certain point, indiquant que le modèle surajuste les données d'entraînement.\n",
    "*Underfitting *: Dans ce cas, l'erreur d'entraînement reste élevée et l'erreur de validation est également élevée et ne diminue pas significativement. Les courbes d'apprentissage seront généralement proches l'une de l'autre mais à un niveau élevé."
   ]
  },
  {
   "cell_type": "code",
   "execution_count": 17,
   "metadata": {
    "colab": {
     "base_uri": "https://localhost:8080/",
     "height": 472
    },
    "id": "fZNNtpi78Bc_",
    "outputId": "d4aca0ae-752d-4f23-e37b-58d85006c18a"
   },
   "outputs": [
    {
     "data": {
      "image/png": "[encoded data removed]",
      "text/plain": [
       "<Figure size 640x480 with 1 Axes>"
      ]
     },
     "metadata": {},
     "output_type": "display_data"
    }
   ],
   "source": [
    "plt.plot(H.history['loss'], label='training loss', marker='o')\n",
    "plt.plot(H.history['val_loss'], label='validation loss', marker='o')\n",
    "\n",
    "plt.xlabel('epoch')\n",
    "plt.ylabel('loss')\n",
    "plt.title('loss par epoch')\n",
    "plt.legend()\n",
    "\n",
    "plt.show()\n"
   ]
  },
  {
   "cell_type": "code",
   "execution_count": 18,
   "metadata": {
    "colab": {
     "base_uri": "https://localhost:8080/"
    },
    "id": "fvk3CwpmJOHO",
    "outputId": "b76ef8ed-48dd-4d40-ff8b-5e33ab830e2e"
   },
   "outputs": [
    {
     "name": "stdout",
     "output_type": "stream",
     "text": [
      "125/125 [==============================] - 18s 142ms/step\n",
      "Nombre de chats : [1516]Nombre de chiens : [984]\n"
     ]
    }
   ],
   "source": [
    "predictions = my_model.predict(validation_dataset)\n",
    "binary_predictions = (predictions > 0.5).astype(int)\n",
    "cats= sum(binary_predictions == 0)\n",
    "dogs= sum(binary_predictions == 1)\n",
    "\n",
    "print(\"Nombre de chats : \" + str(cats) + \"Nombre de chiens : \" + str(dogs))"
   ]
  },
  {
   "cell_type": "code",
   "execution_count": 19,
   "metadata": {
    "colab": {
     "base_uri": "https://localhost:8080/"
    },
    "id": "mlEZGuPOROBW",
    "outputId": "8545350c-1490-4d8f-bec4-17e6a3fe010e"
   },
   "outputs": [
    {
     "name": "stdout",
     "output_type": "stream",
     "text": [
      "125/125 [==============================] - 18s 142ms/step\n",
      "Nombre de chats : [2215]Nombre de chiens : [285]\n"
     ]
    }
   ],
   "source": [
    "predictions = my_model.predict(validation_dataset)\n",
    "binary_predictions = (predictions > 0.8).astype(int)\n",
    "cats= sum(binary_predictions == 0)\n",
    "dogs= sum(binary_predictions == 1)\n",
    "\n",
    "print(\"Nombre de chats : \" + str(cats) + \"Nombre de chiens : \" + str(dogs))"
   ]
  },
  {
   "cell_type": "code",
   "execution_count": 20,
   "metadata": {
    "colab": {
     "base_uri": "https://localhost:8080/"
    },
    "id": "BqkyENWXRlY-",
    "outputId": "a44c9d50-d0a1-4543-af66-31d9bcbd7489"
   },
   "outputs": [
    {
     "name": "stdout",
     "output_type": "stream",
     "text": [
      "125/125 [==============================] - 19s 149ms/step\n",
      "Nombre de chats : [2500]Nombre de chiens : [0]\n"
     ]
    }
   ],
   "source": [
    "predictions = my_model.predict(validation_dataset)\n",
    "binary_predictions = (predictions > 0.999999999).astype(int)\n",
    "cats= sum(binary_predictions == 0)\n",
    "dogs= sum(binary_predictions == 1)\n",
    "\n",
    "print(\"Nombre de chats : \" + str(cats) + \"Nombre de chiens : \" + str(dogs))"
   ]
  },
  {
   "cell_type": "code",
   "execution_count": 21,
   "metadata": {
    "colab": {
     "base_uri": "https://localhost:8080/",
     "height": 559
    },
    "id": "w_Ca40syRIWE",
    "outputId": "a238ec1f-0467-413d-dcbe-506f4a170aaf"
   },
   "outputs": [
    {
     "name": "stdout",
     "output_type": "stream",
     "text": [
      "125/125 [==============================] - 18s 142ms/step\n"
     ]
    },
    {
     "data": {
      "image/png": "[encoded data removed]",
      "text/plain": [
       "<Figure size 800x600 with 2 Axes>"
      ]
     },
     "metadata": {},
     "output_type": "display_data"
    }
   ],
   "source": [
    "from sklearn.metrics import confusion_matrix\n",
    "import seaborn as sns\n",
    "import matplotlib.pyplot as plt\n",
    "\n",
    "\n",
    "predictions = my_model.predict(validation_dataset)\n",
    "\n",
    "binary_predictions = (predictions > 0.5).astype(int)\n",
    "\n",
    "true_labels = validation_dataset.classes\n",
    "\n",
    "cm = confusion_matrix(true_labels, binary_predictions)\n",
    "\n",
    "class_names = ['Chat', 'Chien']\n",
    "\n",
    "plt.figure(figsize=(8, 6))\n",
    "sns.heatmap(cm, annot=True, fmt=\"d\", cmap=\"Blues\", xticklabels=class_names, yticklabels=class_names)\n",
    "plt.xlabel('Prediction')\n",
    "plt.ylabel('Données réelle')\n",
    "plt.show()\n"
   ]
  }
 ],
 "metadata": {
  "colab": {
   "provenance": []
  },
  "kernelspec": {
   "display_name": "Python 3 (ipykernel)",
   "language": "python",
   "name": "python3"
  },
  "language_info": {
   "codemirror_mode": {
    "name": "ipython",
    "version": 3
   },
   "file_extension": ".py",
   "mimetype": "text/x-python",
   "name": "python",
   "nbconvert_exporter": "python",
   "pygments_lexer": "ipython3",
   "version": "3.11.5"
  }
 },
 "nbformat": 4,
 "nbformat_minor": 1
}
